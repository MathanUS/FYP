{
 "cells": [
  {
   "cell_type": "code",
   "execution_count": null,
   "metadata": {},
   "outputs": [],
   "source": [
    "import pandas as pd\n",
    "from sklearn.tree import DecisionTreeClassifier, plot_tree\n",
    "from sklearn.preprocessing import LabelEncoder\n",
    "from sklearn.model_selection import train_test_split\n",
    "from sklearn.metrics import accuracy_score,confusion_matrix,classification_report\n",
    "import matplotlib.pyplot as plt\n",
    "\n",
    "\n"
   ]
  },
  {
   "cell_type": "code",
   "execution_count": null,
   "metadata": {},
   "outputs": [],
   "source": [
    "\n",
    "# Load the dataset\n",
    "dataset_path = r'C:\\Users\\matha\\OneDrive\\Desktop\\movie\\project_data.csv'\n",
    "df = pd.read_csv(dataset_path)\n",
    "\n"
   ]
  },
  {
   "cell_type": "code",
   "execution_count": null,
   "metadata": {},
   "outputs": [],
   "source": [
    "\n",
    "# Drop rows with any null values\n",
    "df.dropna(inplace=True)\n",
    "\n",
    "# Encode categorical columns: COLLEGE, BRANCH, CATEGORY\n",
    "label_encoders = {}\n",
    "for column in ['COLLEGE', 'BRANCH', 'CATEGORY']:\n",
    "    le = LabelEncoder()\n",
    "    df[column] = le.fit_transform(df[column])\n",
    "    label_encoders[column] = le\n"
   ]
  },
  {
   "cell_type": "code",
   "execution_count": null,
   "metadata": {},
   "outputs": [],
   "source": [
    "\n",
    "# Define a target variable 'eligible' based on rank criteria\n",
    "def create_eligibility_column(df, student_rank):\n",
    "    df['eligible'] = ((df['OPENING_RANK'] <= student_rank) & (student_rank <= df['CLOSING_RANK'])).astype(int)\n",
    "    return df\n",
    "\n",
    "# Generate eligibility column with a sample rank threshold\n",
    "student_rank = int(input(\"Enter rank : \"))\n",
    "df = create_eligibility_column(df, student_rank)\n",
    "\n"
   ]
  },
  {
   "cell_type": "code",
   "execution_count": null,
   "metadata": {},
   "outputs": [],
   "source": [
    "# Split the data\n",
    "X = df[['NIRF', 'COLLEGE', 'YEAR', 'BRANCH', 'CATEGORY', 'OPENING_RANK', 'CLOSING_RANK']]\n",
    "y = df['eligible']\n",
    "X_train, X_test, y_train, y_test = train_test_split(X, y, test_size=0.2, random_state=42)\n",
    "\n",
    "# Train the Decision Tree classifier\n",
    "model = DecisionTreeClassifier(random_state=42)\n",
    "model.fit(X_train, y_train)\n",
    "\n",
    "y_pred = model.predict(X_test)\n"
   ]
  },
  {
   "cell_type": "code",
   "execution_count": null,
   "metadata": {},
   "outputs": [],
   "source": [
    "# Evaluate the model\n",
    "accuracy = accuracy_score(y_test, y_pred)\n",
    "report = classification_report(y_test, y_pred)\n",
    "\n",
    "print(f'Accuracy: {accuracy:.2f}')\n",
    "print('Classification Report:')\n",
    "print(report)"
   ]
  },
  {
   "cell_type": "code",
   "execution_count": null,
   "metadata": {},
   "outputs": [],
   "source": [
    "# Function to get the top 5 eligible colleges for a given student rank and community\n",
    "def get_top_5_colleges(student_rank, community):\n",
    "    # Encode the community (CATEGORY) input\n",
    "    community_encoded = label_encoders['CATEGORY'].transform([community])[0]\n",
    "    \n",
    "    # Filter dataset for eligibility based on community and rank\n",
    "    eligible_df = df[(df['CATEGORY'] == community_encoded) & \n",
    "                     (df['OPENING_RANK'] <= student_rank) & \n",
    "                     (student_rank <= df['CLOSING_RANK'])]\n",
    "    \n",
    "    # Sort by NIRF rank to get the top-ranked colleges and branches\n",
    "\n",
    "    eligible_df = eligible_df.sort_values(by='NIRF').head(15)\n",
    "    \n",
    "    # Decode COLLEGE and BRANCH names back to original for displaying results\n",
    "    eligible_df['COLLEGE'] = label_encoders['COLLEGE'].inverse_transform(eligible_df['COLLEGE'])\n",
    "    eligible_df['BRANCH'] = label_encoders['BRANCH'].inverse_transform(eligible_df['BRANCH'])\n",
    "    \n",
    "    # Return only relevant columns\n",
    "    return eligible_df[['NIRF', 'COLLEGE', 'BRANCH', 'OPENING_RANK', 'CLOSING_RANK']]"
   ]
  },
  {
   "cell_type": "code",
   "execution_count": null,
   "metadata": {},
   "outputs": [],
   "source": [
    "\n",
    "# Example usage of top 5 eligible colleges function\n",
    "top_5_colleges = get_top_5_colleges(student_rank, 'GENERAL')\n",
    "print(f\"Student Rank: {student_rank}\")\n",
    "print(\"Top 5 Colleges and Branches:\")\n",
    "print(top_5_colleges)"
   ]
  },
  {
   "cell_type": "code",
   "execution_count": null,
   "metadata": {},
   "outputs": [],
   "source": [
    "\n",
    "# Visualize the Decision Tree\n",
    "plt.figure(figsize=(20, 10))\n",
    "plot_tree(model, feature_names=X.columns, class_names=['Not Eligible', 'Eligible'], filled=True, rounded=True)\n",
    "plt.show()"
   ]
  }
 ],
 "metadata": {
  "kernelspec": {
   "display_name": "Python 3",
   "language": "python",
   "name": "python3"
  },
  "language_info": {
   "codemirror_mode": {
    "name": "ipython",
    "version": 3
   },
   "file_extension": ".py",
   "mimetype": "text/x-python",
   "name": "python",
   "nbconvert_exporter": "python",
   "pygments_lexer": "ipython3",
   "version": "3.10.2"
  }
 },
 "nbformat": 4,
 "nbformat_minor": 2
}
